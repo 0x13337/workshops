{
  "nbformat": 4,
  "nbformat_minor": 0,
  "metadata": {
    "colab": {
      "name": "movie-descriptions-tfhub.ipynb",
      "version": "0.3.2",
      "views": {},
      "default_view": {},
      "provenance": [],
      "collapsed_sections": []
    },
    "kernelspec": {
      "name": "python3",
      "display_name": "Python 3"
    }
  },
  "cells": [
    {
      "metadata": {
        "id": "feFbqZpP1soY",
        "colab_type": "text"
      },
      "cell_type": "markdown",
      "source": [
        "# Building a text classification model with TF Hub\n",
        "\n",
        "In this notebook, we'll walk you through building a model to predict the genres of a movie given its description. The emphasis here is not on accuracy, but instead how to use TF Hub layers in a text classification model.\n",
        "\n",
        "To start, import the necessary dependencies for this project."
      ]
    },
    {
      "metadata": {
        "id": "rOEllRxGQ_me",
        "colab_type": "code",
        "colab": {
          "autoexec": {
            "startup": false,
            "wait_interval": 0
          },
          "base_uri": "https://localhost:8080/",
          "height": 34
        },
        "outputId": "0c559328-23ac-4de1-c3af-37e7b07eafd3",
        "executionInfo": {
          "status": "ok",
          "timestamp": 1533822372270,
          "user_tz": -60,
          "elapsed": 2565,
          "user": {
            "displayName": "Sara Robinson",
            "photoUrl": "//lh4.googleusercontent.com/-RR9n0dvbwgI/AAAAAAAAAAI/AAAAAAAAMYM/SOr5ZExpvXE/s50-c-k-no/photo.jpg",
            "userId": "112510032804989247452"
          }
        }
      },
      "cell_type": "code",
      "source": [
        "import os\n",
        "import numpy as np\n",
        "import pandas as pd\n",
        "import tensorflow as tf\n",
        "import tensorflow_hub as hub\n",
        "import json\n",
        "import pickle\n",
        "import urllib\n",
        "\n",
        "from sklearn.preprocessing import MultiLabelBinarizer\n",
        "\n",
        "print(tf.__version__)"
      ],
      "execution_count": 1,
      "outputs": [
        {
          "output_type": "stream",
          "text": [
            "1.9.0\n"
          ],
          "name": "stdout"
        }
      ]
    },
    {
      "metadata": {
        "id": "xvwN2Jkx2CdU",
        "colab_type": "text"
      },
      "cell_type": "markdown",
      "source": [
        "## The dataset\n",
        "\n",
        "We need a lot of text inputs to train our model. For this model we'll use [this awesome movies dataset](https://www.kaggle.com/rounakbanik/the-movies-dataset) from Kaggle. To simplify things I've made the `movies_metadata.csv` file available in a public Cloud Storage bucket so we can download it with `wget`. I've preprocessed the dataset already to limit the number of genres we'll use for our model, but first let's take a look at the original data so we can see what we're working with."
      ]
    },
    {
      "metadata": {
        "id": "YObfZBenyfMT",
        "colab_type": "code",
        "colab": {
          "autoexec": {
            "startup": false,
            "wait_interval": 0
          },
          "base_uri": "https://localhost:8080/",
          "height": 204
        },
        "outputId": "4e9c76e1-c0ff-4e44-9307-47e787b2eef4",
        "executionInfo": {
          "status": "ok",
          "timestamp": 1533822374634,
          "user_tz": -60,
          "elapsed": 2340,
          "user": {
            "displayName": "Sara Robinson",
            "photoUrl": "//lh4.googleusercontent.com/-RR9n0dvbwgI/AAAAAAAAAAI/AAAAAAAAMYM/SOr5ZExpvXE/s50-c-k-no/photo.jpg",
            "userId": "112510032804989247452"
          }
        }
      },
      "cell_type": "code",
      "source": [
        "# Download the data from GCS\n",
        "!wget 'https://storage.googleapis.com/movies_data/movies_metadata.csv'"
      ],
      "execution_count": 2,
      "outputs": [
        {
          "output_type": "stream",
          "text": [
            "--2018-08-09 13:46:13--  https://storage.googleapis.com/movies_data/movies_metadata.csv\r\n",
            "Resolving storage.googleapis.com (storage.googleapis.com)... 173.194.209.128, 2607:f8b0:400c:c0e::80\r\n",
            "Connecting to storage.googleapis.com (storage.googleapis.com)|173.194.209.128|:443... connected.\n",
            "HTTP request sent, awaiting response... 200 OK\n",
            "Length: 34445126 (33M) [application/octet-stream]\n",
            "Saving to: ‘movies_metadata.csv’\n",
            "\n",
            "movies_metadata.csv 100%[===================>]  32.85M  86.2MB/s    in 0.4s    \n",
            "\n",
            "2018-08-09 13:46:14 (86.2 MB/s) - ‘movies_metadata.csv’ saved [34445126/34445126]\n",
            "\n"
          ],
          "name": "stdout"
        }
      ]
    },
    {
      "metadata": {
        "id": "WFKB0Bw62xW-",
        "colab_type": "text"
      },
      "cell_type": "markdown",
      "source": [
        "Next we'll convert the dataset to a Pandas dataframe and print the first 5 rows. For this model we're only using 2 of these columns: `genres` and `overview`."
      ]
    },
    {
      "metadata": {
        "id": "NaZiKWtGyoQE",
        "colab_type": "code",
        "colab": {
          "autoexec": {
            "startup": false,
            "wait_interval": 0
          },
          "base_uri": "https://localhost:8080/",
          "height": 712
        },
        "outputId": "39707d81-9b8d-4f7a-b17b-f7768b6d089a",
        "executionInfo": {
          "status": "ok",
          "timestamp": 1533822394180,
          "user_tz": -60,
          "elapsed": 1465,
          "user": {
            "displayName": "Sara Robinson",
            "photoUrl": "//lh4.googleusercontent.com/-RR9n0dvbwgI/AAAAAAAAAAI/AAAAAAAAMYM/SOr5ZExpvXE/s50-c-k-no/photo.jpg",
            "userId": "112510032804989247452"
          }
        }
      },
      "cell_type": "code",
      "source": [
        "data = pd.read_csv('movies_metadata.csv')\n",
        "data.head()"
      ],
      "execution_count": 6,
      "outputs": [
        {
          "output_type": "stream",
          "text": [
            "/usr/local/lib/python3.6/dist-packages/IPython/core/interactiveshell.py:2718: DtypeWarning: Columns (10) have mixed types. Specify dtype option on import or set low_memory=False.\n",
            "  interactivity=interactivity, compiler=compiler, result=result)\n"
          ],
          "name": "stderr"
        },
        {
          "output_type": "execute_result",
          "data": {
            "text/html": [
              "<div>\n",
              "<style scoped>\n",
              "    .dataframe tbody tr th:only-of-type {\n",
              "        vertical-align: middle;\n",
              "    }\n",
              "\n",
              "    .dataframe tbody tr th {\n",
              "        vertical-align: top;\n",
              "    }\n",
              "\n",
              "    .dataframe thead th {\n",
              "        text-align: right;\n",
              "    }\n",
              "</style>\n",
              "<table border=\"1\" class=\"dataframe\">\n",
              "  <thead>\n",
              "    <tr style=\"text-align: right;\">\n",
              "      <th></th>\n",
              "      <th>adult</th>\n",
              "      <th>belongs_to_collection</th>\n",
              "      <th>budget</th>\n",
              "      <th>genres</th>\n",
              "      <th>homepage</th>\n",
              "      <th>id</th>\n",
              "      <th>imdb_id</th>\n",
              "      <th>original_language</th>\n",
              "      <th>original_title</th>\n",
              "      <th>overview</th>\n",
              "      <th>...</th>\n",
              "      <th>release_date</th>\n",
              "      <th>revenue</th>\n",
              "      <th>runtime</th>\n",
              "      <th>spoken_languages</th>\n",
              "      <th>status</th>\n",
              "      <th>tagline</th>\n",
              "      <th>title</th>\n",
              "      <th>video</th>\n",
              "      <th>vote_average</th>\n",
              "      <th>vote_count</th>\n",
              "    </tr>\n",
              "  </thead>\n",
              "  <tbody>\n",
              "    <tr>\n",
              "      <th>0</th>\n",
              "      <td>False</td>\n",
              "      <td>{'id': 10194, 'name': 'Toy Story Collection', ...</td>\n",
              "      <td>30000000</td>\n",
              "      <td>[{'id': 16, 'name': 'Animation'}, {'id': 35, '...</td>\n",
              "      <td>http://toystory.disney.com/toy-story</td>\n",
              "      <td>862</td>\n",
              "      <td>tt0114709</td>\n",
              "      <td>en</td>\n",
              "      <td>Toy Story</td>\n",
              "      <td>Led by Woody, Andy's toys live happily in his ...</td>\n",
              "      <td>...</td>\n",
              "      <td>1995-10-30</td>\n",
              "      <td>373554033.0</td>\n",
              "      <td>81.0</td>\n",
              "      <td>[{'iso_639_1': 'en', 'name': 'English'}]</td>\n",
              "      <td>Released</td>\n",
              "      <td>NaN</td>\n",
              "      <td>Toy Story</td>\n",
              "      <td>False</td>\n",
              "      <td>7.7</td>\n",
              "      <td>5415.0</td>\n",
              "    </tr>\n",
              "    <tr>\n",
              "      <th>1</th>\n",
              "      <td>False</td>\n",
              "      <td>NaN</td>\n",
              "      <td>65000000</td>\n",
              "      <td>[{'id': 12, 'name': 'Adventure'}, {'id': 14, '...</td>\n",
              "      <td>NaN</td>\n",
              "      <td>8844</td>\n",
              "      <td>tt0113497</td>\n",
              "      <td>en</td>\n",
              "      <td>Jumanji</td>\n",
              "      <td>When siblings Judy and Peter discover an encha...</td>\n",
              "      <td>...</td>\n",
              "      <td>1995-12-15</td>\n",
              "      <td>262797249.0</td>\n",
              "      <td>104.0</td>\n",
              "      <td>[{'iso_639_1': 'en', 'name': 'English'}, {'iso...</td>\n",
              "      <td>Released</td>\n",
              "      <td>Roll the dice and unleash the excitement!</td>\n",
              "      <td>Jumanji</td>\n",
              "      <td>False</td>\n",
              "      <td>6.9</td>\n",
              "      <td>2413.0</td>\n",
              "    </tr>\n",
              "    <tr>\n",
              "      <th>2</th>\n",
              "      <td>False</td>\n",
              "      <td>{'id': 119050, 'name': 'Grumpy Old Men Collect...</td>\n",
              "      <td>0</td>\n",
              "      <td>[{'id': 10749, 'name': 'Romance'}, {'id': 35, ...</td>\n",
              "      <td>NaN</td>\n",
              "      <td>15602</td>\n",
              "      <td>tt0113228</td>\n",
              "      <td>en</td>\n",
              "      <td>Grumpier Old Men</td>\n",
              "      <td>A family wedding reignites the ancient feud be...</td>\n",
              "      <td>...</td>\n",
              "      <td>1995-12-22</td>\n",
              "      <td>0.0</td>\n",
              "      <td>101.0</td>\n",
              "      <td>[{'iso_639_1': 'en', 'name': 'English'}]</td>\n",
              "      <td>Released</td>\n",
              "      <td>Still Yelling. Still Fighting. Still Ready for...</td>\n",
              "      <td>Grumpier Old Men</td>\n",
              "      <td>False</td>\n",
              "      <td>6.5</td>\n",
              "      <td>92.0</td>\n",
              "    </tr>\n",
              "    <tr>\n",
              "      <th>3</th>\n",
              "      <td>False</td>\n",
              "      <td>NaN</td>\n",
              "      <td>16000000</td>\n",
              "      <td>[{'id': 35, 'name': 'Comedy'}, {'id': 18, 'nam...</td>\n",
              "      <td>NaN</td>\n",
              "      <td>31357</td>\n",
              "      <td>tt0114885</td>\n",
              "      <td>en</td>\n",
              "      <td>Waiting to Exhale</td>\n",
              "      <td>Cheated on, mistreated and stepped on, the wom...</td>\n",
              "      <td>...</td>\n",
              "      <td>1995-12-22</td>\n",
              "      <td>81452156.0</td>\n",
              "      <td>127.0</td>\n",
              "      <td>[{'iso_639_1': 'en', 'name': 'English'}]</td>\n",
              "      <td>Released</td>\n",
              "      <td>Friends are the people who let you be yourself...</td>\n",
              "      <td>Waiting to Exhale</td>\n",
              "      <td>False</td>\n",
              "      <td>6.1</td>\n",
              "      <td>34.0</td>\n",
              "    </tr>\n",
              "    <tr>\n",
              "      <th>4</th>\n",
              "      <td>False</td>\n",
              "      <td>{'id': 96871, 'name': 'Father of the Bride Col...</td>\n",
              "      <td>0</td>\n",
              "      <td>[{'id': 35, 'name': 'Comedy'}]</td>\n",
              "      <td>NaN</td>\n",
              "      <td>11862</td>\n",
              "      <td>tt0113041</td>\n",
              "      <td>en</td>\n",
              "      <td>Father of the Bride Part II</td>\n",
              "      <td>Just when George Banks has recovered from his ...</td>\n",
              "      <td>...</td>\n",
              "      <td>1995-02-10</td>\n",
              "      <td>76578911.0</td>\n",
              "      <td>106.0</td>\n",
              "      <td>[{'iso_639_1': 'en', 'name': 'English'}]</td>\n",
              "      <td>Released</td>\n",
              "      <td>Just When His World Is Back To Normal... He's ...</td>\n",
              "      <td>Father of the Bride Part II</td>\n",
              "      <td>False</td>\n",
              "      <td>5.7</td>\n",
              "      <td>173.0</td>\n",
              "    </tr>\n",
              "  </tbody>\n",
              "</table>\n",
              "<p>5 rows × 24 columns</p>\n",
              "</div>"
            ],
            "text/plain": [
              "   adult                              belongs_to_collection    budget  \\\n",
              "0  False  {'id': 10194, 'name': 'Toy Story Collection', ...  30000000   \n",
              "1  False                                                NaN  65000000   \n",
              "2  False  {'id': 119050, 'name': 'Grumpy Old Men Collect...         0   \n",
              "3  False                                                NaN  16000000   \n",
              "4  False  {'id': 96871, 'name': 'Father of the Bride Col...         0   \n",
              "\n",
              "                                              genres  \\\n",
              "0  [{'id': 16, 'name': 'Animation'}, {'id': 35, '...   \n",
              "1  [{'id': 12, 'name': 'Adventure'}, {'id': 14, '...   \n",
              "2  [{'id': 10749, 'name': 'Romance'}, {'id': 35, ...   \n",
              "3  [{'id': 35, 'name': 'Comedy'}, {'id': 18, 'nam...   \n",
              "4                     [{'id': 35, 'name': 'Comedy'}]   \n",
              "\n",
              "                               homepage     id    imdb_id original_language  \\\n",
              "0  http://toystory.disney.com/toy-story    862  tt0114709                en   \n",
              "1                                   NaN   8844  tt0113497                en   \n",
              "2                                   NaN  15602  tt0113228                en   \n",
              "3                                   NaN  31357  tt0114885                en   \n",
              "4                                   NaN  11862  tt0113041                en   \n",
              "\n",
              "                original_title  \\\n",
              "0                    Toy Story   \n",
              "1                      Jumanji   \n",
              "2             Grumpier Old Men   \n",
              "3            Waiting to Exhale   \n",
              "4  Father of the Bride Part II   \n",
              "\n",
              "                                            overview    ...     release_date  \\\n",
              "0  Led by Woody, Andy's toys live happily in his ...    ...       1995-10-30   \n",
              "1  When siblings Judy and Peter discover an encha...    ...       1995-12-15   \n",
              "2  A family wedding reignites the ancient feud be...    ...       1995-12-22   \n",
              "3  Cheated on, mistreated and stepped on, the wom...    ...       1995-12-22   \n",
              "4  Just when George Banks has recovered from his ...    ...       1995-02-10   \n",
              "\n",
              "       revenue runtime                                   spoken_languages  \\\n",
              "0  373554033.0    81.0           [{'iso_639_1': 'en', 'name': 'English'}]   \n",
              "1  262797249.0   104.0  [{'iso_639_1': 'en', 'name': 'English'}, {'iso...   \n",
              "2          0.0   101.0           [{'iso_639_1': 'en', 'name': 'English'}]   \n",
              "3   81452156.0   127.0           [{'iso_639_1': 'en', 'name': 'English'}]   \n",
              "4   76578911.0   106.0           [{'iso_639_1': 'en', 'name': 'English'}]   \n",
              "\n",
              "     status                                            tagline  \\\n",
              "0  Released                                                NaN   \n",
              "1  Released          Roll the dice and unleash the excitement!   \n",
              "2  Released  Still Yelling. Still Fighting. Still Ready for...   \n",
              "3  Released  Friends are the people who let you be yourself...   \n",
              "4  Released  Just When His World Is Back To Normal... He's ...   \n",
              "\n",
              "                         title  video vote_average vote_count  \n",
              "0                    Toy Story  False          7.7     5415.0  \n",
              "1                      Jumanji  False          6.9     2413.0  \n",
              "2             Grumpier Old Men  False          6.5       92.0  \n",
              "3            Waiting to Exhale  False          6.1       34.0  \n",
              "4  Father of the Bride Part II  False          5.7      173.0  \n",
              "\n",
              "[5 rows x 24 columns]"
            ]
          },
          "metadata": {
            "tags": []
          },
          "execution_count": 6
        }
      ]
    },
    {
      "metadata": {
        "id": "MBLcNSE_7Icv",
        "colab_type": "text"
      },
      "cell_type": "markdown",
      "source": [
        "## Preparing the data for our model\n",
        "\n",
        "I've done some preprocessing to limit the dataset to the top 9 genres, and I've saved the Pandas dataframes as public [Pickle](https://docs.python.org/3/library/pickle.html) files in GCS. Here we download those files. The resulting `descriptions` and `genres` variables are Pandas Series containing all descriptions and genres from our dataset respectively."
      ]
    },
    {
      "metadata": {
        "id": "rzjJuKhir-PH",
        "colab_type": "code",
        "colab": {
          "autoexec": {
            "startup": false,
            "wait_interval": 0
          }
        }
      },
      "cell_type": "code",
      "source": [
        "urllib.request.urlretrieve('https://storage.googleapis.com/bq-imports/descriptions.p', 'descriptions.p')\n",
        "urllib.request.urlretrieve('https://storage.googleapis.com/bq-imports/genres.p', 'genres.p')\n",
        "\n",
        "descriptions = pickle.load(open('descriptions.p', 'rb'))\n",
        "genres = pickle.load(open('genres.p', 'rb'))"
      ],
      "execution_count": 0,
      "outputs": []
    },
    {
      "metadata": {
        "id": "ZUypuN818T_D",
        "colab_type": "text"
      },
      "cell_type": "markdown",
      "source": [
        "### Splitting our data\n",
        "When we train our model, we'll use 80% of the data for training and set aside 20% of the data to evaluate how our model performed."
      ]
    },
    {
      "metadata": {
        "id": "_nticMcj1alW",
        "colab_type": "code",
        "colab": {
          "autoexec": {
            "startup": false,
            "wait_interval": 0
          }
        }
      },
      "cell_type": "code",
      "source": [
        "train_size = int(len(descriptions) * .8)\n",
        "\n",
        "train_descriptions = descriptions[:train_size].astype('str')\n",
        "train_genres = genres[:train_size]\n",
        "\n",
        "test_descriptions = descriptions[train_size:].astype('str')\n",
        "test_genres = genres[train_size:]"
      ],
      "execution_count": 0,
      "outputs": []
    },
    {
      "metadata": {
        "id": "FmZ9iqK88nSD",
        "colab_type": "text"
      },
      "cell_type": "markdown",
      "source": [
        "### Formatting our labels\n",
        "When we train our model we'll provide the labels (in this case genres) associated with each movie. We can't pass the genres in as strings directly, we'll transform them into multi-hot vectors. Since we have 9 genres, we'll have a 9 element vector for each movie with 0s and 1s indicating which genres are present in each description."
      ]
    },
    {
      "metadata": {
        "id": "bouv0R-D7J45",
        "colab_type": "code",
        "colab": {
          "autoexec": {
            "startup": false,
            "wait_interval": 0
          },
          "base_uri": "https://localhost:8080/",
          "height": 68
        },
        "outputId": "98b2b597-a7c6-4579-88f5-80c73337caaa",
        "executionInfo": {
          "status": "ok",
          "timestamp": 1533822798261,
          "user_tz": -60,
          "elapsed": 488,
          "user": {
            "displayName": "Sara Robinson",
            "photoUrl": "//lh4.googleusercontent.com/-RR9n0dvbwgI/AAAAAAAAAAI/AAAAAAAAMYM/SOr5ZExpvXE/s50-c-k-no/photo.jpg",
            "userId": "112510032804989247452"
          }
        }
      },
      "cell_type": "code",
      "source": [
        "encoder = MultiLabelBinarizer()\n",
        "encoder.fit_transform(train_genres)\n",
        "train_encoded = encoder.transform(train_genres)\n",
        "test_encoded = encoder.transform(test_genres)\n",
        "num_classes = len(encoder.classes_)\n",
        "\n",
        "# Print all possible genres and the labels for the first movie in our training dataset\n",
        "print(encoder.classes_)\n",
        "print(train_encoded[0])"
      ],
      "execution_count": 11,
      "outputs": [
        {
          "output_type": "stream",
          "text": [
            "['Action' 'Adventure' 'Comedy' 'Crime' 'Documentary' 'Horror' 'Romance'\n",
            " 'Science Fiction' 'Thriller']\n",
            "[0 0 1 0 0 0 1 0 0]\n"
          ],
          "name": "stdout"
        }
      ]
    },
    {
      "metadata": {
        "id": "Ir8ez0K_9sYA",
        "colab_type": "text"
      },
      "cell_type": "markdown",
      "source": [
        "### Create our TF Hub embedding layer\n",
        "[TF Hub]() provides a library of existing pre-trained model checkpoints for various kinds of models (images, text, and more) In this model we'll use the TF Hub `universal-sentence-encoder` module for our pre-trained word embeddings. We only need one line of code to instantiate module. When we train our model, it'll convert our array of movie description strings to embeddings. When we train our model, we'll use this as a feature column.\n"
      ]
    },
    {
      "metadata": {
        "id": "PWuNUXq7a-7p",
        "colab_type": "code",
        "colab": {
          "autoexec": {
            "startup": false,
            "wait_interval": 0
          },
          "base_uri": "https://localhost:8080/",
          "height": 68
        },
        "outputId": "4962d791-f1cc-40db-d631-91507e83c844",
        "executionInfo": {
          "status": "ok",
          "timestamp": 1533823314938,
          "user_tz": -60,
          "elapsed": 152248,
          "user": {
            "displayName": "Sara Robinson",
            "photoUrl": "//lh4.googleusercontent.com/-RR9n0dvbwgI/AAAAAAAAAAI/AAAAAAAAMYM/SOr5ZExpvXE/s50-c-k-no/photo.jpg",
            "userId": "112510032804989247452"
          }
        }
      },
      "cell_type": "code",
      "source": [
        "description_embeddings = hub.text_embedding_column(\"descriptions\", module_spec=\"https://tfhub.dev/google/universal-sentence-encoder/2\")"
      ],
      "execution_count": 12,
      "outputs": [
        {
          "output_type": "stream",
          "text": [
            "INFO:tensorflow:Using /tmp/tfhub_modules to cache modules.\n",
            "INFO:tensorflow:Downloading TF-Hub Module 'https://tfhub.dev/google/universal-sentence-encoder/2'.\n",
            "INFO:tensorflow:Downloaded TF-Hub Module 'https://tfhub.dev/google/universal-sentence-encoder/2'.\n"
          ],
          "name": "stdout"
        }
      ]
    },
    {
      "metadata": {
        "id": "9vscf4Fo-iI-",
        "colab_type": "text"
      },
      "cell_type": "markdown",
      "source": [
        "## Instantiating our DNNEstimator Model\n",
        "The first parameter we pass to our DNNEstimator is called a head, and defines the type of labels our model should expect. Since we want our model to output multiple labels, we’ll use multi_label_head here. Then we'll convert our features and labels to numpy arrays and instantiate our Estimator. `batch_size` and `num_epochs` are hyperparameters - you should experiment with different values to see what works best on your dataset."
      ]
    },
    {
      "metadata": {
        "id": "c0Vsmu9O21je",
        "colab_type": "code",
        "colab": {
          "autoexec": {
            "startup": false,
            "wait_interval": 0
          }
        }
      },
      "cell_type": "code",
      "source": [
        "multi_label_head = tf.contrib.estimator.multi_label_head(\n",
        "    num_classes,\n",
        "    loss_reduction=tf.losses.Reduction.SUM_OVER_BATCH_SIZE\n",
        ")"
      ],
      "execution_count": 0,
      "outputs": []
    },
    {
      "metadata": {
        "id": "8mTpWD_Q8GKe",
        "colab_type": "code",
        "colab": {
          "autoexec": {
            "startup": false,
            "wait_interval": 0
          },
          "base_uri": "https://localhost:8080/",
          "height": 88
        },
        "outputId": "9e2fc4db-5082-4898-8993-a5b87ecb3dc6",
        "executionInfo": {
          "status": "ok",
          "timestamp": 1533823403301,
          "user_tz": -60,
          "elapsed": 500,
          "user": {
            "displayName": "Sara Robinson",
            "photoUrl": "//lh4.googleusercontent.com/-RR9n0dvbwgI/AAAAAAAAAAI/AAAAAAAAMYM/SOr5ZExpvXE/s50-c-k-no/photo.jpg",
            "userId": "112510032804989247452"
          }
        }
      },
      "cell_type": "code",
      "source": [
        "features = {\n",
        "  \"descriptions\": np.array(train_descriptions).astype(np.str)\n",
        "}\n",
        "labels = np.array(train_encoded).astype(np.int32)\n",
        "train_input_fn = tf.estimator.inputs.numpy_input_fn(features, labels, shuffle=True, batch_size=32, num_epochs=25)\n",
        "estimator = tf.contrib.estimator.DNNEstimator(\n",
        "    head=multi_label_head,\n",
        "    hidden_units=[64,10],\n",
        "    feature_columns=[description_embeddings])"
      ],
      "execution_count": 14,
      "outputs": [
        {
          "output_type": "stream",
          "text": [
            "INFO:tensorflow:Using default config.\n",
            "WARNING:tensorflow:Using temporary folder as model directory: /tmp/tmpobmrokt3\n",
            "INFO:tensorflow:Using config: {'_model_dir': '/tmp/tmpobmrokt3', '_tf_random_seed': None, '_save_summary_steps': 100, '_save_checkpoints_steps': None, '_save_checkpoints_secs': 600, '_session_config': None, '_keep_checkpoint_max': 5, '_keep_checkpoint_every_n_hours': 10000, '_log_step_count_steps': 100, '_train_distribute': None, '_device_fn': None, '_service': None, '_cluster_spec': <tensorflow.python.training.server_lib.ClusterSpec object at 0x7f58c1e01b70>, '_task_type': 'worker', '_task_id': 0, '_global_id_in_cluster': 0, '_master': '', '_evaluation_master': '', '_is_chief': True, '_num_ps_replicas': 0, '_num_worker_replicas': 1}\n"
          ],
          "name": "stdout"
        }
      ]
    },
    {
      "metadata": {
        "id": "5ak1cZPZ_ZYM",
        "colab_type": "text"
      },
      "cell_type": "markdown",
      "source": [
        "## Training and serving our model \n",
        "To train our model, we simply call `train()` passing it the input function we defined above. Once our model is trained, we'll define an evaluation input function similar to the one above and call `evaluate()`. When this completes we'll get a few metrics we can use to evaluate our model's accuracy.\n"
      ]
    },
    {
      "metadata": {
        "id": "jmtvJ5o3Olcg",
        "colab_type": "code",
        "colab": {
          "autoexec": {
            "startup": false,
            "wait_interval": 0
          },
          "base_uri": "https://localhost:8080/",
          "height": 3947
        },
        "outputId": "45acf3b1-ad41-46cb-89a4-66130313e6e5",
        "executionInfo": {
          "status": "ok",
          "timestamp": 1533823625062,
          "user_tz": -60,
          "elapsed": 217453,
          "user": {
            "displayName": "Sara Robinson",
            "photoUrl": "//lh4.googleusercontent.com/-RR9n0dvbwgI/AAAAAAAAAAI/AAAAAAAAMYM/SOr5ZExpvXE/s50-c-k-no/photo.jpg",
            "userId": "112510032804989247452"
          }
        }
      },
      "cell_type": "code",
      "source": [
        "estimator.train(input_fn=train_input_fn)"
      ],
      "execution_count": 15,
      "outputs": [
        {
          "output_type": "stream",
          "text": [
            "INFO:tensorflow:Calling model_fn.\n",
            "INFO:tensorflow:Initialize variable dnn/input_from_feature_columns/input_layer/descriptions_hub_module_embedding/module/Embeddings_en/sharded_0:0 from checkpoint b'/tmp/tfhub_modules/1fb57c3ffe1a38479233ee9853ddd7a8ac8a8c47/variables/variables' with Embeddings_en/sharded_0\n",
            "INFO:tensorflow:Initialize variable dnn/input_from_feature_columns/input_layer/descriptions_hub_module_embedding/module/Embeddings_en/sharded_1:0 from checkpoint b'/tmp/tfhub_modules/1fb57c3ffe1a38479233ee9853ddd7a8ac8a8c47/variables/variables' with Embeddings_en/sharded_1\n",
            "INFO:tensorflow:Initialize variable dnn/input_from_feature_columns/input_layer/descriptions_hub_module_embedding/module/Embeddings_en/sharded_10:0 from checkpoint b'/tmp/tfhub_modules/1fb57c3ffe1a38479233ee9853ddd7a8ac8a8c47/variables/variables' with Embeddings_en/sharded_10\n",
            "INFO:tensorflow:Initialize variable dnn/input_from_feature_columns/input_layer/descriptions_hub_module_embedding/module/Embeddings_en/sharded_11:0 from checkpoint b'/tmp/tfhub_modules/1fb57c3ffe1a38479233ee9853ddd7a8ac8a8c47/variables/variables' with Embeddings_en/sharded_11\n",
            "INFO:tensorflow:Initialize variable dnn/input_from_feature_columns/input_layer/descriptions_hub_module_embedding/module/Embeddings_en/sharded_12:0 from checkpoint b'/tmp/tfhub_modules/1fb57c3ffe1a38479233ee9853ddd7a8ac8a8c47/variables/variables' with Embeddings_en/sharded_12\n",
            "INFO:tensorflow:Initialize variable dnn/input_from_feature_columns/input_layer/descriptions_hub_module_embedding/module/Embeddings_en/sharded_13:0 from checkpoint b'/tmp/tfhub_modules/1fb57c3ffe1a38479233ee9853ddd7a8ac8a8c47/variables/variables' with Embeddings_en/sharded_13\n",
            "INFO:tensorflow:Initialize variable dnn/input_from_feature_columns/input_layer/descriptions_hub_module_embedding/module/Embeddings_en/sharded_14:0 from checkpoint b'/tmp/tfhub_modules/1fb57c3ffe1a38479233ee9853ddd7a8ac8a8c47/variables/variables' with Embeddings_en/sharded_14\n",
            "INFO:tensorflow:Initialize variable dnn/input_from_feature_columns/input_layer/descriptions_hub_module_embedding/module/Embeddings_en/sharded_15:0 from checkpoint b'/tmp/tfhub_modules/1fb57c3ffe1a38479233ee9853ddd7a8ac8a8c47/variables/variables' with Embeddings_en/sharded_15\n",
            "INFO:tensorflow:Initialize variable dnn/input_from_feature_columns/input_layer/descriptions_hub_module_embedding/module/Embeddings_en/sharded_16:0 from checkpoint b'/tmp/tfhub_modules/1fb57c3ffe1a38479233ee9853ddd7a8ac8a8c47/variables/variables' with Embeddings_en/sharded_16\n",
            "INFO:tensorflow:Initialize variable dnn/input_from_feature_columns/input_layer/descriptions_hub_module_embedding/module/Embeddings_en/sharded_2:0 from checkpoint b'/tmp/tfhub_modules/1fb57c3ffe1a38479233ee9853ddd7a8ac8a8c47/variables/variables' with Embeddings_en/sharded_2\n",
            "INFO:tensorflow:Initialize variable dnn/input_from_feature_columns/input_layer/descriptions_hub_module_embedding/module/Embeddings_en/sharded_3:0 from checkpoint b'/tmp/tfhub_modules/1fb57c3ffe1a38479233ee9853ddd7a8ac8a8c47/variables/variables' with Embeddings_en/sharded_3\n",
            "INFO:tensorflow:Initialize variable dnn/input_from_feature_columns/input_layer/descriptions_hub_module_embedding/module/Embeddings_en/sharded_4:0 from checkpoint b'/tmp/tfhub_modules/1fb57c3ffe1a38479233ee9853ddd7a8ac8a8c47/variables/variables' with Embeddings_en/sharded_4\n",
            "INFO:tensorflow:Initialize variable dnn/input_from_feature_columns/input_layer/descriptions_hub_module_embedding/module/Embeddings_en/sharded_5:0 from checkpoint b'/tmp/tfhub_modules/1fb57c3ffe1a38479233ee9853ddd7a8ac8a8c47/variables/variables' with Embeddings_en/sharded_5\n",
            "INFO:tensorflow:Initialize variable dnn/input_from_feature_columns/input_layer/descriptions_hub_module_embedding/module/Embeddings_en/sharded_6:0 from checkpoint b'/tmp/tfhub_modules/1fb57c3ffe1a38479233ee9853ddd7a8ac8a8c47/variables/variables' with Embeddings_en/sharded_6\n",
            "INFO:tensorflow:Initialize variable dnn/input_from_feature_columns/input_layer/descriptions_hub_module_embedding/module/Embeddings_en/sharded_7:0 from checkpoint b'/tmp/tfhub_modules/1fb57c3ffe1a38479233ee9853ddd7a8ac8a8c47/variables/variables' with Embeddings_en/sharded_7\n",
            "INFO:tensorflow:Initialize variable dnn/input_from_feature_columns/input_layer/descriptions_hub_module_embedding/module/Embeddings_en/sharded_8:0 from checkpoint b'/tmp/tfhub_modules/1fb57c3ffe1a38479233ee9853ddd7a8ac8a8c47/variables/variables' with Embeddings_en/sharded_8\n",
            "INFO:tensorflow:Initialize variable dnn/input_from_feature_columns/input_layer/descriptions_hub_module_embedding/module/Embeddings_en/sharded_9:0 from checkpoint b'/tmp/tfhub_modules/1fb57c3ffe1a38479233ee9853ddd7a8ac8a8c47/variables/variables' with Embeddings_en/sharded_9\n",
            "INFO:tensorflow:Initialize variable dnn/input_from_feature_columns/input_layer/descriptions_hub_module_embedding/module/Encoder_en/DNN/ResidualHidden_0/weights:0 from checkpoint b'/tmp/tfhub_modules/1fb57c3ffe1a38479233ee9853ddd7a8ac8a8c47/variables/variables' with Encoder_en/DNN/ResidualHidden_0/weights\n",
            "INFO:tensorflow:Initialize variable dnn/input_from_feature_columns/input_layer/descriptions_hub_module_embedding/module/Encoder_en/DNN/ResidualHidden_1/weights:0 from checkpoint b'/tmp/tfhub_modules/1fb57c3ffe1a38479233ee9853ddd7a8ac8a8c47/variables/variables' with Encoder_en/DNN/ResidualHidden_1/weights\n",
            "INFO:tensorflow:Initialize variable dnn/input_from_feature_columns/input_layer/descriptions_hub_module_embedding/module/Encoder_en/DNN/ResidualHidden_2/weights:0 from checkpoint b'/tmp/tfhub_modules/1fb57c3ffe1a38479233ee9853ddd7a8ac8a8c47/variables/variables' with Encoder_en/DNN/ResidualHidden_2/weights\n",
            "INFO:tensorflow:Initialize variable dnn/input_from_feature_columns/input_layer/descriptions_hub_module_embedding/module/Encoder_en/DNN/ResidualHidden_3/projection:0 from checkpoint b'/tmp/tfhub_modules/1fb57c3ffe1a38479233ee9853ddd7a8ac8a8c47/variables/variables' with Encoder_en/DNN/ResidualHidden_3/projection\n",
            "INFO:tensorflow:Initialize variable dnn/input_from_feature_columns/input_layer/descriptions_hub_module_embedding/module/Encoder_en/DNN/ResidualHidden_3/weights:0 from checkpoint b'/tmp/tfhub_modules/1fb57c3ffe1a38479233ee9853ddd7a8ac8a8c47/variables/variables' with Encoder_en/DNN/ResidualHidden_3/weights\n",
            "INFO:tensorflow:Initialize variable dnn/input_from_feature_columns/input_layer/descriptions_hub_module_embedding/module/SHARED_RANK_ANSWER/response_encoder_0/tanh_layer_0/bias:0 from checkpoint b'/tmp/tfhub_modules/1fb57c3ffe1a38479233ee9853ddd7a8ac8a8c47/variables/variables' with SHARED_RANK_ANSWER/response_encoder_0/tanh_layer_0/bias\n",
            "INFO:tensorflow:Initialize variable dnn/input_from_feature_columns/input_layer/descriptions_hub_module_embedding/module/SHARED_RANK_ANSWER/response_encoder_0/tanh_layer_0/weights:0 from checkpoint b'/tmp/tfhub_modules/1fb57c3ffe1a38479233ee9853ddd7a8ac8a8c47/variables/variables' with SHARED_RANK_ANSWER/response_encoder_0/tanh_layer_0/weights\n",
            "INFO:tensorflow:Initialize variable dnn/input_from_feature_columns/input_layer/descriptions_hub_module_embedding/module/SHARED_RANK_ANSWER/response_encoder_0/tanh_layer_1/bias:0 from checkpoint b'/tmp/tfhub_modules/1fb57c3ffe1a38479233ee9853ddd7a8ac8a8c47/variables/variables' with SHARED_RANK_ANSWER/response_encoder_0/tanh_layer_1/bias\n",
            "INFO:tensorflow:Initialize variable dnn/input_from_feature_columns/input_layer/descriptions_hub_module_embedding/module/SHARED_RANK_ANSWER/response_encoder_0/tanh_layer_1/weights:0 from checkpoint b'/tmp/tfhub_modules/1fb57c3ffe1a38479233ee9853ddd7a8ac8a8c47/variables/variables' with SHARED_RANK_ANSWER/response_encoder_0/tanh_layer_1/weights\n",
            "INFO:tensorflow:Initialize variable dnn/input_from_feature_columns/input_layer/descriptions_hub_module_embedding/module/SHARED_RANK_ANSWER/response_encoder_0/tanh_layer_2/bias:0 from checkpoint b'/tmp/tfhub_modules/1fb57c3ffe1a38479233ee9853ddd7a8ac8a8c47/variables/variables' with SHARED_RANK_ANSWER/response_encoder_0/tanh_layer_2/bias\n",
            "INFO:tensorflow:Initialize variable dnn/input_from_feature_columns/input_layer/descriptions_hub_module_embedding/module/SHARED_RANK_ANSWER/response_encoder_0/tanh_layer_2/weights:0 from checkpoint b'/tmp/tfhub_modules/1fb57c3ffe1a38479233ee9853ddd7a8ac8a8c47/variables/variables' with SHARED_RANK_ANSWER/response_encoder_0/tanh_layer_2/weights\n",
            "INFO:tensorflow:Initialize variable dnn/input_from_feature_columns/input_layer/descriptions_hub_module_embedding/module/SNLI/Classifier/LinearLayer/bias:0 from checkpoint b'/tmp/tfhub_modules/1fb57c3ffe1a38479233ee9853ddd7a8ac8a8c47/variables/variables' with SNLI/Classifier/LinearLayer/bias\n",
            "INFO:tensorflow:Initialize variable dnn/input_from_feature_columns/input_layer/descriptions_hub_module_embedding/module/SNLI/Classifier/LinearLayer/weights:0 from checkpoint b'/tmp/tfhub_modules/1fb57c3ffe1a38479233ee9853ddd7a8ac8a8c47/variables/variables' with SNLI/Classifier/LinearLayer/weights\n",
            "INFO:tensorflow:Initialize variable dnn/input_from_feature_columns/input_layer/descriptions_hub_module_embedding/module/SNLI/Classifier/tanh_layer_0/bias:0 from checkpoint b'/tmp/tfhub_modules/1fb57c3ffe1a38479233ee9853ddd7a8ac8a8c47/variables/variables' with SNLI/Classifier/tanh_layer_0/bias\n",
            "INFO:tensorflow:Initialize variable dnn/input_from_feature_columns/input_layer/descriptions_hub_module_embedding/module/SNLI/Classifier/tanh_layer_0/weights:0 from checkpoint b'/tmp/tfhub_modules/1fb57c3ffe1a38479233ee9853ddd7a8ac8a8c47/variables/variables' with SNLI/Classifier/tanh_layer_0/weights\n",
            "INFO:tensorflow:Initialize variable dnn/input_from_feature_columns/input_layer/descriptions_hub_module_embedding/module/global_step:0 from checkpoint b'/tmp/tfhub_modules/1fb57c3ffe1a38479233ee9853ddd7a8ac8a8c47/variables/variables' with global_step\n",
            "INFO:tensorflow:Done calling model_fn.\n",
            "INFO:tensorflow:Create CheckpointSaverHook.\n",
            "INFO:tensorflow:Graph was finalized.\n",
            "INFO:tensorflow:Running local_init_op.\n",
            "INFO:tensorflow:Done running local_init_op.\n",
            "INFO:tensorflow:Saving checkpoints for 0 into /tmp/tmpobmrokt3/model.ckpt.\n",
            "INFO:tensorflow:loss = 0.6924917, step = 1\n",
            "INFO:tensorflow:global_step/sec: 49.9268\n",
            "INFO:tensorflow:loss = 0.48511767, step = 101 (2.007 sec)\n",
            "INFO:tensorflow:global_step/sec: 57.2965\n",
            "INFO:tensorflow:loss = 0.40986395, step = 201 (1.742 sec)\n",
            "INFO:tensorflow:global_step/sec: 53.7079\n",
            "INFO:tensorflow:loss = 0.42425907, step = 301 (1.862 sec)\n",
            "INFO:tensorflow:global_step/sec: 52.7999\n",
            "INFO:tensorflow:loss = 0.4543112, step = 401 (1.897 sec)\n",
            "INFO:tensorflow:global_step/sec: 52.7323\n",
            "INFO:tensorflow:loss = 0.44674653, step = 501 (1.893 sec)\n",
            "INFO:tensorflow:global_step/sec: 52.549\n",
            "INFO:tensorflow:loss = 0.39946014, step = 601 (1.903 sec)\n",
            "INFO:tensorflow:global_step/sec: 51.7183\n",
            "INFO:tensorflow:loss = 0.38248533, step = 701 (1.934 sec)\n",
            "INFO:tensorflow:global_step/sec: 53.91\n",
            "INFO:tensorflow:loss = 0.43034375, step = 801 (1.855 sec)\n",
            "INFO:tensorflow:global_step/sec: 54.0349\n",
            "INFO:tensorflow:loss = 0.40801728, step = 901 (1.851 sec)\n",
            "INFO:tensorflow:global_step/sec: 53.1088\n",
            "INFO:tensorflow:loss = 0.34591675, step = 1001 (1.883 sec)\n",
            "INFO:tensorflow:global_step/sec: 52.8579\n",
            "INFO:tensorflow:loss = 0.36621106, step = 1101 (1.892 sec)\n",
            "INFO:tensorflow:global_step/sec: 57.4572\n",
            "INFO:tensorflow:loss = 0.45253104, step = 1201 (1.740 sec)\n",
            "INFO:tensorflow:global_step/sec: 57.6308\n",
            "INFO:tensorflow:loss = 0.33740562, step = 1301 (1.735 sec)\n",
            "INFO:tensorflow:global_step/sec: 54.4384\n",
            "INFO:tensorflow:loss = 0.28465304, step = 1401 (1.837 sec)\n",
            "INFO:tensorflow:global_step/sec: 52.2646\n",
            "INFO:tensorflow:loss = 0.43566346, step = 1501 (1.913 sec)\n",
            "INFO:tensorflow:global_step/sec: 54.2595\n",
            "INFO:tensorflow:loss = 0.290136, step = 1601 (1.847 sec)\n",
            "INFO:tensorflow:global_step/sec: 51.6862\n",
            "INFO:tensorflow:loss = 0.38523537, step = 1701 (1.931 sec)\n",
            "INFO:tensorflow:global_step/sec: 51.9398\n",
            "INFO:tensorflow:loss = 0.26925325, step = 1801 (1.925 sec)\n",
            "INFO:tensorflow:global_step/sec: 53.4335\n",
            "INFO:tensorflow:loss = 0.39322442, step = 1901 (1.876 sec)\n",
            "INFO:tensorflow:global_step/sec: 54.944\n",
            "INFO:tensorflow:loss = 0.32694376, step = 2001 (1.816 sec)\n",
            "INFO:tensorflow:global_step/sec: 53.3833\n",
            "INFO:tensorflow:loss = 0.28059494, step = 2101 (1.876 sec)\n",
            "INFO:tensorflow:global_step/sec: 52.7324\n",
            "INFO:tensorflow:loss = 0.31374437, step = 2201 (1.893 sec)\n",
            "INFO:tensorflow:global_step/sec: 57.9552\n",
            "INFO:tensorflow:loss = 0.37575346, step = 2301 (1.725 sec)\n",
            "INFO:tensorflow:global_step/sec: 57.3554\n",
            "INFO:tensorflow:loss = 0.2690843, step = 2401 (1.744 sec)\n",
            "INFO:tensorflow:global_step/sec: 55.808\n",
            "INFO:tensorflow:loss = 0.29535586, step = 2501 (1.791 sec)\n",
            "INFO:tensorflow:global_step/sec: 51.3307\n",
            "INFO:tensorflow:loss = 0.33749545, step = 2601 (1.948 sec)\n",
            "INFO:tensorflow:global_step/sec: 52.8031\n",
            "INFO:tensorflow:loss = 0.32481885, step = 2701 (1.893 sec)\n",
            "INFO:tensorflow:global_step/sec: 52.0719\n",
            "INFO:tensorflow:loss = 0.27252054, step = 2801 (1.921 sec)\n",
            "INFO:tensorflow:global_step/sec: 52.1497\n",
            "INFO:tensorflow:loss = 0.25261408, step = 2901 (1.917 sec)\n",
            "INFO:tensorflow:global_step/sec: 51.8674\n",
            "INFO:tensorflow:loss = 0.3790465, step = 3001 (1.928 sec)\n",
            "INFO:tensorflow:global_step/sec: 54.8641\n",
            "INFO:tensorflow:loss = 0.27807367, step = 3101 (1.823 sec)\n",
            "INFO:tensorflow:global_step/sec: 53.7875\n",
            "INFO:tensorflow:loss = 0.3439417, step = 3201 (1.859 sec)\n",
            "INFO:tensorflow:global_step/sec: 52.888\n",
            "INFO:tensorflow:loss = 0.25314182, step = 3301 (1.891 sec)\n",
            "INFO:tensorflow:global_step/sec: 57.5806\n",
            "INFO:tensorflow:loss = 0.29235986, step = 3401 (1.737 sec)\n",
            "INFO:tensorflow:global_step/sec: 58.2658\n",
            "INFO:tensorflow:loss = 0.32425475, step = 3501 (1.720 sec)\n",
            "INFO:tensorflow:global_step/sec: 56.5493\n",
            "INFO:tensorflow:loss = 0.22813417, step = 3601 (1.767 sec)\n",
            "INFO:tensorflow:global_step/sec: 52.0274\n",
            "INFO:tensorflow:loss = 0.31136376, step = 3701 (1.920 sec)\n",
            "INFO:tensorflow:global_step/sec: 52.7015\n",
            "INFO:tensorflow:loss = 0.28842303, step = 3801 (1.897 sec)\n",
            "INFO:tensorflow:global_step/sec: 52.4926\n",
            "INFO:tensorflow:loss = 0.24200019, step = 3901 (1.905 sec)\n",
            "INFO:tensorflow:global_step/sec: 52.9762\n",
            "INFO:tensorflow:loss = 0.26836836, step = 4001 (1.888 sec)\n",
            "INFO:tensorflow:global_step/sec: 52.7877\n",
            "INFO:tensorflow:loss = 0.26327989, step = 4101 (1.897 sec)\n",
            "INFO:tensorflow:global_step/sec: 54.9278\n",
            "INFO:tensorflow:loss = 0.262753, step = 4201 (1.820 sec)\n",
            "INFO:tensorflow:global_step/sec: 54.613\n",
            "INFO:tensorflow:loss = 0.194136, step = 4301 (1.828 sec)\n",
            "INFO:tensorflow:global_step/sec: 54.3365\n",
            "INFO:tensorflow:loss = 0.27406403, step = 4401 (1.840 sec)\n",
            "INFO:tensorflow:global_step/sec: 55.3595\n",
            "INFO:tensorflow:loss = 0.23991853, step = 4501 (1.806 sec)\n",
            "INFO:tensorflow:global_step/sec: 59.0446\n",
            "INFO:tensorflow:loss = 0.29765904, step = 4601 (1.694 sec)\n",
            "INFO:tensorflow:global_step/sec: 58.1593\n",
            "INFO:tensorflow:loss = 0.29597586, step = 4701 (1.723 sec)\n",
            "INFO:tensorflow:global_step/sec: 53.2845\n",
            "INFO:tensorflow:loss = 0.28693157, step = 4801 (1.877 sec)\n",
            "INFO:tensorflow:global_step/sec: 53.3478\n",
            "INFO:tensorflow:loss = 0.25893134, step = 4901 (1.871 sec)\n",
            "INFO:tensorflow:global_step/sec: 53.3663\n",
            "INFO:tensorflow:loss = 0.25155726, step = 5001 (1.874 sec)\n",
            "INFO:tensorflow:global_step/sec: 52.73\n",
            "INFO:tensorflow:loss = 0.30160052, step = 5101 (1.896 sec)\n",
            "INFO:tensorflow:global_step/sec: 52.1054\n",
            "INFO:tensorflow:loss = 0.2315884, step = 5201 (1.919 sec)\n",
            "INFO:tensorflow:global_step/sec: 54.7487\n",
            "INFO:tensorflow:loss = 0.25800055, step = 5301 (1.826 sec)\n",
            "INFO:tensorflow:global_step/sec: 55.0802\n",
            "INFO:tensorflow:loss = 0.23617539, step = 5401 (1.820 sec)\n",
            "INFO:tensorflow:global_step/sec: 54.0551\n",
            "INFO:tensorflow:loss = 0.26910043, step = 5501 (1.850 sec)\n",
            "INFO:tensorflow:global_step/sec: 54.5074\n",
            "INFO:tensorflow:loss = 0.31683278, step = 5601 (1.830 sec)\n",
            "INFO:tensorflow:global_step/sec: 59.1389\n",
            "INFO:tensorflow:loss = 0.27908525, step = 5701 (1.691 sec)\n",
            "INFO:tensorflow:global_step/sec: 59.0923\n",
            "INFO:tensorflow:loss = 0.19897303, step = 5801 (1.696 sec)\n",
            "INFO:tensorflow:global_step/sec: 55.5505\n",
            "INFO:tensorflow:loss = 0.19317472, step = 5901 (1.796 sec)\n",
            "INFO:tensorflow:global_step/sec: 52.9122\n",
            "INFO:tensorflow:loss = 0.25794226, step = 6001 (1.890 sec)\n",
            "INFO:tensorflow:global_step/sec: 53.894\n",
            "INFO:tensorflow:loss = 0.27911457, step = 6101 (1.856 sec)\n",
            "INFO:tensorflow:global_step/sec: 53.3881\n",
            "INFO:tensorflow:loss = 0.23645157, step = 6201 (1.873 sec)\n",
            "INFO:tensorflow:global_step/sec: 53.301\n",
            "INFO:tensorflow:loss = 0.20405792, step = 6301 (1.876 sec)\n",
            "INFO:tensorflow:global_step/sec: 53.2319\n",
            "INFO:tensorflow:loss = 0.30539557, step = 6401 (1.878 sec)\n",
            "INFO:tensorflow:global_step/sec: 55.7086\n",
            "INFO:tensorflow:loss = 0.34691942, step = 6501 (1.795 sec)\n",
            "INFO:tensorflow:global_step/sec: 54.2215\n",
            "INFO:tensorflow:loss = 0.29584396, step = 6601 (1.844 sec)\n",
            "INFO:tensorflow:global_step/sec: 54.1729\n",
            "INFO:tensorflow:loss = 0.25975513, step = 6701 (1.846 sec)\n",
            "INFO:tensorflow:global_step/sec: 58.9399\n",
            "INFO:tensorflow:loss = 0.26574722, step = 6801 (1.696 sec)\n",
            "INFO:tensorflow:global_step/sec: 58.5991\n",
            "INFO:tensorflow:loss = 0.2821892, step = 6901 (1.707 sec)\n",
            "INFO:tensorflow:global_step/sec: 58.0347\n",
            "INFO:tensorflow:loss = 0.25776327, step = 7001 (1.723 sec)\n",
            "INFO:tensorflow:global_step/sec: 53.0255\n",
            "INFO:tensorflow:loss = 0.32975826, step = 7101 (1.886 sec)\n",
            "INFO:tensorflow:global_step/sec: 54.1099\n",
            "INFO:tensorflow:loss = 0.20223391, step = 7201 (1.848 sec)\n",
            "INFO:tensorflow:global_step/sec: 53.2123\n",
            "INFO:tensorflow:loss = 0.21487024, step = 7301 (1.879 sec)\n",
            "INFO:tensorflow:global_step/sec: 52.6841\n",
            "INFO:tensorflow:loss = 0.29961413, step = 7401 (1.902 sec)\n",
            "INFO:tensorflow:global_step/sec: 52.3706\n",
            "INFO:tensorflow:loss = 0.30327764, step = 7501 (1.909 sec)\n",
            "INFO:tensorflow:global_step/sec: 56.0638\n",
            "INFO:tensorflow:loss = 0.22313349, step = 7601 (1.779 sec)\n",
            "INFO:tensorflow:global_step/sec: 54.5761\n",
            "INFO:tensorflow:loss = 0.23871067, step = 7701 (1.833 sec)\n",
            "INFO:tensorflow:global_step/sec: 54.1984\n",
            "INFO:tensorflow:loss = 0.23317586, step = 7801 (1.848 sec)\n",
            "INFO:tensorflow:global_step/sec: 56.3735\n",
            "INFO:tensorflow:loss = 0.20937787, step = 7901 (1.771 sec)\n",
            "INFO:tensorflow:global_step/sec: 58.7271\n",
            "INFO:tensorflow:loss = 0.2348619, step = 8001 (1.703 sec)\n",
            "INFO:tensorflow:global_step/sec: 58.6602\n",
            "INFO:tensorflow:loss = 0.27391553, step = 8101 (1.709 sec)\n",
            "INFO:tensorflow:global_step/sec: 55.0996\n",
            "INFO:tensorflow:loss = 0.21985693, step = 8201 (1.811 sec)\n",
            "INFO:tensorflow:global_step/sec: 54.5513\n",
            "INFO:tensorflow:loss = 0.19876936, step = 8301 (1.837 sec)\n",
            "INFO:tensorflow:global_step/sec: 53.7851\n",
            "INFO:tensorflow:loss = 0.23615691, step = 8401 (1.859 sec)\n",
            "INFO:tensorflow:global_step/sec: 53.0359\n",
            "INFO:tensorflow:loss = 0.19387528, step = 8501 (1.882 sec)\n",
            "INFO:tensorflow:global_step/sec: 51.9515\n",
            "INFO:tensorflow:loss = 0.35777712, step = 8601 (1.930 sec)\n",
            "INFO:tensorflow:global_step/sec: 54.6487\n",
            "INFO:tensorflow:loss = 0.23142098, step = 8701 (1.824 sec)\n",
            "INFO:tensorflow:global_step/sec: 54.1991\n",
            "INFO:tensorflow:loss = 0.29147947, step = 8801 (1.845 sec)\n",
            "INFO:tensorflow:global_step/sec: 53.6155\n",
            "INFO:tensorflow:loss = 0.27878535, step = 8901 (1.865 sec)\n",
            "INFO:tensorflow:global_step/sec: 53.3533\n",
            "INFO:tensorflow:loss = 0.33020222, step = 9001 (1.879 sec)\n",
            "INFO:tensorflow:global_step/sec: 59.1579\n",
            "INFO:tensorflow:loss = 0.27826095, step = 9101 (1.685 sec)\n",
            "INFO:tensorflow:global_step/sec: 58.1608\n",
            "INFO:tensorflow:loss = 0.2710411, step = 9201 (1.719 sec)\n",
            "INFO:tensorflow:global_step/sec: 55.7126\n",
            "INFO:tensorflow:loss = 0.23353995, step = 9301 (1.799 sec)\n",
            "INFO:tensorflow:Saving checkpoints for 9371 into /tmp/tmpobmrokt3/model.ckpt.\n",
            "INFO:tensorflow:Loss for final step: 0.14958414.\n"
          ],
          "name": "stdout"
        },
        {
          "output_type": "execute_result",
          "data": {
            "text/plain": [
              "<tensorflow.contrib.estimator.python.estimator.dnn.DNNEstimator at 0x7f58c1e019e8>"
            ]
          },
          "metadata": {
            "tags": []
          },
          "execution_count": 15
        }
      ]
    },
    {
      "metadata": {
        "id": "dMgti0YmJO7F",
        "colab_type": "code",
        "colab": {
          "autoexec": {
            "startup": false,
            "wait_interval": 0
          },
          "base_uri": "https://localhost:8080/",
          "height": 887
        },
        "outputId": "d692feb9-4206-4465-8cbe-2f0ca7c58ec3",
        "executionInfo": {
          "status": "ok",
          "timestamp": 1533823840816,
          "user_tz": -60,
          "elapsed": 20183,
          "user": {
            "displayName": "Sara Robinson",
            "photoUrl": "//lh4.googleusercontent.com/-RR9n0dvbwgI/AAAAAAAAAAI/AAAAAAAAMYM/SOr5ZExpvXE/s50-c-k-no/photo.jpg",
            "userId": "112510032804989247452"
          }
        }
      },
      "cell_type": "code",
      "source": [
        "# Define our eval input_fn and run eval\n",
        "eval_input_fn = tf.estimator.inputs.numpy_input_fn({\"descriptions\": np.array(test_descriptions).astype(np.str)}, test_encoded.astype(np.int32), shuffle=False)\n",
        "estimator.evaluate(input_fn=eval_input_fn)"
      ],
      "execution_count": 16,
      "outputs": [
        {
          "output_type": "stream",
          "text": [
            "INFO:tensorflow:Calling model_fn.\n",
            "INFO:tensorflow:Initialize variable dnn/input_from_feature_columns/input_layer/descriptions_hub_module_embedding/module/Embeddings_en/sharded_0:0 from checkpoint b'/tmp/tfhub_modules/1fb57c3ffe1a38479233ee9853ddd7a8ac8a8c47/variables/variables' with Embeddings_en/sharded_0\n",
            "INFO:tensorflow:Initialize variable dnn/input_from_feature_columns/input_layer/descriptions_hub_module_embedding/module/Embeddings_en/sharded_1:0 from checkpoint b'/tmp/tfhub_modules/1fb57c3ffe1a38479233ee9853ddd7a8ac8a8c47/variables/variables' with Embeddings_en/sharded_1\n",
            "INFO:tensorflow:Initialize variable dnn/input_from_feature_columns/input_layer/descriptions_hub_module_embedding/module/Embeddings_en/sharded_10:0 from checkpoint b'/tmp/tfhub_modules/1fb57c3ffe1a38479233ee9853ddd7a8ac8a8c47/variables/variables' with Embeddings_en/sharded_10\n",
            "INFO:tensorflow:Initialize variable dnn/input_from_feature_columns/input_layer/descriptions_hub_module_embedding/module/Embeddings_en/sharded_11:0 from checkpoint b'/tmp/tfhub_modules/1fb57c3ffe1a38479233ee9853ddd7a8ac8a8c47/variables/variables' with Embeddings_en/sharded_11\n",
            "INFO:tensorflow:Initialize variable dnn/input_from_feature_columns/input_layer/descriptions_hub_module_embedding/module/Embeddings_en/sharded_12:0 from checkpoint b'/tmp/tfhub_modules/1fb57c3ffe1a38479233ee9853ddd7a8ac8a8c47/variables/variables' with Embeddings_en/sharded_12\n",
            "INFO:tensorflow:Initialize variable dnn/input_from_feature_columns/input_layer/descriptions_hub_module_embedding/module/Embeddings_en/sharded_13:0 from checkpoint b'/tmp/tfhub_modules/1fb57c3ffe1a38479233ee9853ddd7a8ac8a8c47/variables/variables' with Embeddings_en/sharded_13\n",
            "INFO:tensorflow:Initialize variable dnn/input_from_feature_columns/input_layer/descriptions_hub_module_embedding/module/Embeddings_en/sharded_14:0 from checkpoint b'/tmp/tfhub_modules/1fb57c3ffe1a38479233ee9853ddd7a8ac8a8c47/variables/variables' with Embeddings_en/sharded_14\n",
            "INFO:tensorflow:Initialize variable dnn/input_from_feature_columns/input_layer/descriptions_hub_module_embedding/module/Embeddings_en/sharded_15:0 from checkpoint b'/tmp/tfhub_modules/1fb57c3ffe1a38479233ee9853ddd7a8ac8a8c47/variables/variables' with Embeddings_en/sharded_15\n",
            "INFO:tensorflow:Initialize variable dnn/input_from_feature_columns/input_layer/descriptions_hub_module_embedding/module/Embeddings_en/sharded_16:0 from checkpoint b'/tmp/tfhub_modules/1fb57c3ffe1a38479233ee9853ddd7a8ac8a8c47/variables/variables' with Embeddings_en/sharded_16\n",
            "INFO:tensorflow:Initialize variable dnn/input_from_feature_columns/input_layer/descriptions_hub_module_embedding/module/Embeddings_en/sharded_2:0 from checkpoint b'/tmp/tfhub_modules/1fb57c3ffe1a38479233ee9853ddd7a8ac8a8c47/variables/variables' with Embeddings_en/sharded_2\n",
            "INFO:tensorflow:Initialize variable dnn/input_from_feature_columns/input_layer/descriptions_hub_module_embedding/module/Embeddings_en/sharded_3:0 from checkpoint b'/tmp/tfhub_modules/1fb57c3ffe1a38479233ee9853ddd7a8ac8a8c47/variables/variables' with Embeddings_en/sharded_3\n",
            "INFO:tensorflow:Initialize variable dnn/input_from_feature_columns/input_layer/descriptions_hub_module_embedding/module/Embeddings_en/sharded_4:0 from checkpoint b'/tmp/tfhub_modules/1fb57c3ffe1a38479233ee9853ddd7a8ac8a8c47/variables/variables' with Embeddings_en/sharded_4\n",
            "INFO:tensorflow:Initialize variable dnn/input_from_feature_columns/input_layer/descriptions_hub_module_embedding/module/Embeddings_en/sharded_5:0 from checkpoint b'/tmp/tfhub_modules/1fb57c3ffe1a38479233ee9853ddd7a8ac8a8c47/variables/variables' with Embeddings_en/sharded_5\n",
            "INFO:tensorflow:Initialize variable dnn/input_from_feature_columns/input_layer/descriptions_hub_module_embedding/module/Embeddings_en/sharded_6:0 from checkpoint b'/tmp/tfhub_modules/1fb57c3ffe1a38479233ee9853ddd7a8ac8a8c47/variables/variables' with Embeddings_en/sharded_6\n",
            "INFO:tensorflow:Initialize variable dnn/input_from_feature_columns/input_layer/descriptions_hub_module_embedding/module/Embeddings_en/sharded_7:0 from checkpoint b'/tmp/tfhub_modules/1fb57c3ffe1a38479233ee9853ddd7a8ac8a8c47/variables/variables' with Embeddings_en/sharded_7\n",
            "INFO:tensorflow:Initialize variable dnn/input_from_feature_columns/input_layer/descriptions_hub_module_embedding/module/Embeddings_en/sharded_8:0 from checkpoint b'/tmp/tfhub_modules/1fb57c3ffe1a38479233ee9853ddd7a8ac8a8c47/variables/variables' with Embeddings_en/sharded_8\n",
            "INFO:tensorflow:Initialize variable dnn/input_from_feature_columns/input_layer/descriptions_hub_module_embedding/module/Embeddings_en/sharded_9:0 from checkpoint b'/tmp/tfhub_modules/1fb57c3ffe1a38479233ee9853ddd7a8ac8a8c47/variables/variables' with Embeddings_en/sharded_9\n",
            "INFO:tensorflow:Initialize variable dnn/input_from_feature_columns/input_layer/descriptions_hub_module_embedding/module/Encoder_en/DNN/ResidualHidden_0/weights:0 from checkpoint b'/tmp/tfhub_modules/1fb57c3ffe1a38479233ee9853ddd7a8ac8a8c47/variables/variables' with Encoder_en/DNN/ResidualHidden_0/weights\n",
            "INFO:tensorflow:Initialize variable dnn/input_from_feature_columns/input_layer/descriptions_hub_module_embedding/module/Encoder_en/DNN/ResidualHidden_1/weights:0 from checkpoint b'/tmp/tfhub_modules/1fb57c3ffe1a38479233ee9853ddd7a8ac8a8c47/variables/variables' with Encoder_en/DNN/ResidualHidden_1/weights\n",
            "INFO:tensorflow:Initialize variable dnn/input_from_feature_columns/input_layer/descriptions_hub_module_embedding/module/Encoder_en/DNN/ResidualHidden_2/weights:0 from checkpoint b'/tmp/tfhub_modules/1fb57c3ffe1a38479233ee9853ddd7a8ac8a8c47/variables/variables' with Encoder_en/DNN/ResidualHidden_2/weights\n",
            "INFO:tensorflow:Initialize variable dnn/input_from_feature_columns/input_layer/descriptions_hub_module_embedding/module/Encoder_en/DNN/ResidualHidden_3/projection:0 from checkpoint b'/tmp/tfhub_modules/1fb57c3ffe1a38479233ee9853ddd7a8ac8a8c47/variables/variables' with Encoder_en/DNN/ResidualHidden_3/projection\n",
            "INFO:tensorflow:Initialize variable dnn/input_from_feature_columns/input_layer/descriptions_hub_module_embedding/module/Encoder_en/DNN/ResidualHidden_3/weights:0 from checkpoint b'/tmp/tfhub_modules/1fb57c3ffe1a38479233ee9853ddd7a8ac8a8c47/variables/variables' with Encoder_en/DNN/ResidualHidden_3/weights\n",
            "INFO:tensorflow:Initialize variable dnn/input_from_feature_columns/input_layer/descriptions_hub_module_embedding/module/SHARED_RANK_ANSWER/response_encoder_0/tanh_layer_0/bias:0 from checkpoint b'/tmp/tfhub_modules/1fb57c3ffe1a38479233ee9853ddd7a8ac8a8c47/variables/variables' with SHARED_RANK_ANSWER/response_encoder_0/tanh_layer_0/bias\n",
            "INFO:tensorflow:Initialize variable dnn/input_from_feature_columns/input_layer/descriptions_hub_module_embedding/module/SHARED_RANK_ANSWER/response_encoder_0/tanh_layer_0/weights:0 from checkpoint b'/tmp/tfhub_modules/1fb57c3ffe1a38479233ee9853ddd7a8ac8a8c47/variables/variables' with SHARED_RANK_ANSWER/response_encoder_0/tanh_layer_0/weights\n",
            "INFO:tensorflow:Initialize variable dnn/input_from_feature_columns/input_layer/descriptions_hub_module_embedding/module/SHARED_RANK_ANSWER/response_encoder_0/tanh_layer_1/bias:0 from checkpoint b'/tmp/tfhub_modules/1fb57c3ffe1a38479233ee9853ddd7a8ac8a8c47/variables/variables' with SHARED_RANK_ANSWER/response_encoder_0/tanh_layer_1/bias\n",
            "INFO:tensorflow:Initialize variable dnn/input_from_feature_columns/input_layer/descriptions_hub_module_embedding/module/SHARED_RANK_ANSWER/response_encoder_0/tanh_layer_1/weights:0 from checkpoint b'/tmp/tfhub_modules/1fb57c3ffe1a38479233ee9853ddd7a8ac8a8c47/variables/variables' with SHARED_RANK_ANSWER/response_encoder_0/tanh_layer_1/weights\n",
            "INFO:tensorflow:Initialize variable dnn/input_from_feature_columns/input_layer/descriptions_hub_module_embedding/module/SHARED_RANK_ANSWER/response_encoder_0/tanh_layer_2/bias:0 from checkpoint b'/tmp/tfhub_modules/1fb57c3ffe1a38479233ee9853ddd7a8ac8a8c47/variables/variables' with SHARED_RANK_ANSWER/response_encoder_0/tanh_layer_2/bias\n",
            "INFO:tensorflow:Initialize variable dnn/input_from_feature_columns/input_layer/descriptions_hub_module_embedding/module/SHARED_RANK_ANSWER/response_encoder_0/tanh_layer_2/weights:0 from checkpoint b'/tmp/tfhub_modules/1fb57c3ffe1a38479233ee9853ddd7a8ac8a8c47/variables/variables' with SHARED_RANK_ANSWER/response_encoder_0/tanh_layer_2/weights\n",
            "INFO:tensorflow:Initialize variable dnn/input_from_feature_columns/input_layer/descriptions_hub_module_embedding/module/SNLI/Classifier/LinearLayer/bias:0 from checkpoint b'/tmp/tfhub_modules/1fb57c3ffe1a38479233ee9853ddd7a8ac8a8c47/variables/variables' with SNLI/Classifier/LinearLayer/bias\n",
            "INFO:tensorflow:Initialize variable dnn/input_from_feature_columns/input_layer/descriptions_hub_module_embedding/module/SNLI/Classifier/LinearLayer/weights:0 from checkpoint b'/tmp/tfhub_modules/1fb57c3ffe1a38479233ee9853ddd7a8ac8a8c47/variables/variables' with SNLI/Classifier/LinearLayer/weights\n",
            "INFO:tensorflow:Initialize variable dnn/input_from_feature_columns/input_layer/descriptions_hub_module_embedding/module/SNLI/Classifier/tanh_layer_0/bias:0 from checkpoint b'/tmp/tfhub_modules/1fb57c3ffe1a38479233ee9853ddd7a8ac8a8c47/variables/variables' with SNLI/Classifier/tanh_layer_0/bias\n",
            "INFO:tensorflow:Initialize variable dnn/input_from_feature_columns/input_layer/descriptions_hub_module_embedding/module/SNLI/Classifier/tanh_layer_0/weights:0 from checkpoint b'/tmp/tfhub_modules/1fb57c3ffe1a38479233ee9853ddd7a8ac8a8c47/variables/variables' with SNLI/Classifier/tanh_layer_0/weights\n",
            "INFO:tensorflow:Initialize variable dnn/input_from_feature_columns/input_layer/descriptions_hub_module_embedding/module/global_step:0 from checkpoint b'/tmp/tfhub_modules/1fb57c3ffe1a38479233ee9853ddd7a8ac8a8c47/variables/variables' with global_step\n",
            "WARNING:tensorflow:Trapezoidal rule is known to produce incorrect PR-AUCs; please switch to \"careful_interpolation\" instead.\n",
            "WARNING:tensorflow:Trapezoidal rule is known to produce incorrect PR-AUCs; please switch to \"careful_interpolation\" instead.\n",
            "INFO:tensorflow:Done calling model_fn.\n",
            "INFO:tensorflow:Starting evaluation at 2018-08-09-14:10:26\n",
            "INFO:tensorflow:Graph was finalized.\n",
            "INFO:tensorflow:Restoring parameters from /tmp/tmpobmrokt3/model.ckpt-9371\n",
            "INFO:tensorflow:Running local_init_op.\n",
            "INFO:tensorflow:Done running local_init_op.\n",
            "INFO:tensorflow:Finished evaluation at 2018-08-09-14:10:37\n",
            "INFO:tensorflow:Saving dict for global step 9371: auc = 0.9153281, auc_precision_recall = 0.746849, average_loss = 0.2443719, global_step = 9371, loss = 0.24503238\n",
            "INFO:tensorflow:Saving 'checkpoint_path' summary for global step 9371: /tmp/tmpobmrokt3/model.ckpt-9371\n"
          ],
          "name": "stdout"
        },
        {
          "output_type": "execute_result",
          "data": {
            "text/plain": [
              "{'auc': 0.9153281,\n",
              " 'auc_precision_recall': 0.746849,\n",
              " 'average_loss': 0.2443719,\n",
              " 'global_step': 9371,\n",
              " 'loss': 0.24503238}"
            ]
          },
          "metadata": {
            "tags": []
          },
          "execution_count": 16
        }
      ]
    },
    {
      "metadata": {
        "id": "mcPyCfmWABVO",
        "colab_type": "text"
      },
      "cell_type": "markdown",
      "source": [
        "## Generating predictions on new data\n",
        "Now for the most fun part! Let's generate predictions on movie descriptions our model hasn't seen before. We'll define an array of 3 new description strings (the comments indicate the correct genres) and create a `predict_input_fn`. Then we'll display the top 2 genres along with their confidence percentages for each of the 3 movies."
      ]
    },
    {
      "metadata": {
        "id": "ixlCKF6NEkTx",
        "colab_type": "code",
        "colab": {
          "autoexec": {
            "startup": false,
            "wait_interval": 0
          }
        }
      },
      "cell_type": "code",
      "source": [
        "# Test our model on some raw description data\n",
        "raw_test = [\n",
        "    \"An examination of our dietary choices and the food we put in our bodies. Based on Jonathan Safran Foer's memoir.\", # Documentary\n",
        "    \"After escaping an attack by what he claims was a 70-foot shark, Jonas Taylor must confront his fears to save those trapped in a sunken submersible.\", # Action, Adventure\n",
        "    \"A teenager tries to survive the last week of her disastrous eighth-grade year before leaving to start high school.\", # Comedy\n",
        "]\n",
        "\n"
      ],
      "execution_count": 0,
      "outputs": []
    },
    {
      "metadata": {
        "id": "XHpMIWFsE4OB",
        "colab_type": "code",
        "colab": {
          "autoexec": {
            "startup": false,
            "wait_interval": 0
          }
        }
      },
      "cell_type": "code",
      "source": [
        "# Generate predictions\n",
        "predict_input_fn = tf.estimator.inputs.numpy_input_fn({\"descriptions\": np.array(raw_test).astype(np.str)}, shuffle=False)\n",
        "results = estimator.predict(predict_input_fn)"
      ],
      "execution_count": 0,
      "outputs": []
    },
    {
      "metadata": {
        "id": "iMVzrHpPDvoy",
        "colab_type": "code",
        "colab": {
          "autoexec": {
            "startup": false,
            "wait_interval": 0
          },
          "base_uri": "https://localhost:8080/",
          "height": 853
        },
        "outputId": "fb75ed85-082f-4613-8723-55eb4a22482f",
        "executionInfo": {
          "status": "ok",
          "timestamp": 1533827217624,
          "user_tz": -60,
          "elapsed": 12805,
          "user": {
            "displayName": "Sara Robinson",
            "photoUrl": "//lh4.googleusercontent.com/-RR9n0dvbwgI/AAAAAAAAAAI/AAAAAAAAMYM/SOr5ZExpvXE/s50-c-k-no/photo.jpg",
            "userId": "112510032804989247452"
          }
        }
      },
      "cell_type": "code",
      "source": [
        "# Display predictions\n",
        "for movie_genres in results:\n",
        "  top_2 = movie_genres['probabilities'].argsort()[-2:][::-1]\n",
        "  for genre in top_2:\n",
        "    text_genre = encoder.classes_[genre]\n",
        "    print(text_genre + ': ' + str(round(movie_genres['probabilities'][genre] * 100, 2)) + '%')\n",
        "  print('')"
      ],
      "execution_count": 25,
      "outputs": [
        {
          "output_type": "stream",
          "text": [
            "INFO:tensorflow:Calling model_fn.\n",
            "INFO:tensorflow:Initialize variable dnn/input_from_feature_columns/input_layer/descriptions_hub_module_embedding/module/Embeddings_en/sharded_0:0 from checkpoint b'/tmp/tfhub_modules/1fb57c3ffe1a38479233ee9853ddd7a8ac8a8c47/variables/variables' with Embeddings_en/sharded_0\n",
            "INFO:tensorflow:Initialize variable dnn/input_from_feature_columns/input_layer/descriptions_hub_module_embedding/module/Embeddings_en/sharded_1:0 from checkpoint b'/tmp/tfhub_modules/1fb57c3ffe1a38479233ee9853ddd7a8ac8a8c47/variables/variables' with Embeddings_en/sharded_1\n",
            "INFO:tensorflow:Initialize variable dnn/input_from_feature_columns/input_layer/descriptions_hub_module_embedding/module/Embeddings_en/sharded_10:0 from checkpoint b'/tmp/tfhub_modules/1fb57c3ffe1a38479233ee9853ddd7a8ac8a8c47/variables/variables' with Embeddings_en/sharded_10\n",
            "INFO:tensorflow:Initialize variable dnn/input_from_feature_columns/input_layer/descriptions_hub_module_embedding/module/Embeddings_en/sharded_11:0 from checkpoint b'/tmp/tfhub_modules/1fb57c3ffe1a38479233ee9853ddd7a8ac8a8c47/variables/variables' with Embeddings_en/sharded_11\n",
            "INFO:tensorflow:Initialize variable dnn/input_from_feature_columns/input_layer/descriptions_hub_module_embedding/module/Embeddings_en/sharded_12:0 from checkpoint b'/tmp/tfhub_modules/1fb57c3ffe1a38479233ee9853ddd7a8ac8a8c47/variables/variables' with Embeddings_en/sharded_12\n",
            "INFO:tensorflow:Initialize variable dnn/input_from_feature_columns/input_layer/descriptions_hub_module_embedding/module/Embeddings_en/sharded_13:0 from checkpoint b'/tmp/tfhub_modules/1fb57c3ffe1a38479233ee9853ddd7a8ac8a8c47/variables/variables' with Embeddings_en/sharded_13\n",
            "INFO:tensorflow:Initialize variable dnn/input_from_feature_columns/input_layer/descriptions_hub_module_embedding/module/Embeddings_en/sharded_14:0 from checkpoint b'/tmp/tfhub_modules/1fb57c3ffe1a38479233ee9853ddd7a8ac8a8c47/variables/variables' with Embeddings_en/sharded_14\n",
            "INFO:tensorflow:Initialize variable dnn/input_from_feature_columns/input_layer/descriptions_hub_module_embedding/module/Embeddings_en/sharded_15:0 from checkpoint b'/tmp/tfhub_modules/1fb57c3ffe1a38479233ee9853ddd7a8ac8a8c47/variables/variables' with Embeddings_en/sharded_15\n",
            "INFO:tensorflow:Initialize variable dnn/input_from_feature_columns/input_layer/descriptions_hub_module_embedding/module/Embeddings_en/sharded_16:0 from checkpoint b'/tmp/tfhub_modules/1fb57c3ffe1a38479233ee9853ddd7a8ac8a8c47/variables/variables' with Embeddings_en/sharded_16\n",
            "INFO:tensorflow:Initialize variable dnn/input_from_feature_columns/input_layer/descriptions_hub_module_embedding/module/Embeddings_en/sharded_2:0 from checkpoint b'/tmp/tfhub_modules/1fb57c3ffe1a38479233ee9853ddd7a8ac8a8c47/variables/variables' with Embeddings_en/sharded_2\n",
            "INFO:tensorflow:Initialize variable dnn/input_from_feature_columns/input_layer/descriptions_hub_module_embedding/module/Embeddings_en/sharded_3:0 from checkpoint b'/tmp/tfhub_modules/1fb57c3ffe1a38479233ee9853ddd7a8ac8a8c47/variables/variables' with Embeddings_en/sharded_3\n",
            "INFO:tensorflow:Initialize variable dnn/input_from_feature_columns/input_layer/descriptions_hub_module_embedding/module/Embeddings_en/sharded_4:0 from checkpoint b'/tmp/tfhub_modules/1fb57c3ffe1a38479233ee9853ddd7a8ac8a8c47/variables/variables' with Embeddings_en/sharded_4\n",
            "INFO:tensorflow:Initialize variable dnn/input_from_feature_columns/input_layer/descriptions_hub_module_embedding/module/Embeddings_en/sharded_5:0 from checkpoint b'/tmp/tfhub_modules/1fb57c3ffe1a38479233ee9853ddd7a8ac8a8c47/variables/variables' with Embeddings_en/sharded_5\n",
            "INFO:tensorflow:Initialize variable dnn/input_from_feature_columns/input_layer/descriptions_hub_module_embedding/module/Embeddings_en/sharded_6:0 from checkpoint b'/tmp/tfhub_modules/1fb57c3ffe1a38479233ee9853ddd7a8ac8a8c47/variables/variables' with Embeddings_en/sharded_6\n",
            "INFO:tensorflow:Initialize variable dnn/input_from_feature_columns/input_layer/descriptions_hub_module_embedding/module/Embeddings_en/sharded_7:0 from checkpoint b'/tmp/tfhub_modules/1fb57c3ffe1a38479233ee9853ddd7a8ac8a8c47/variables/variables' with Embeddings_en/sharded_7\n",
            "INFO:tensorflow:Initialize variable dnn/input_from_feature_columns/input_layer/descriptions_hub_module_embedding/module/Embeddings_en/sharded_8:0 from checkpoint b'/tmp/tfhub_modules/1fb57c3ffe1a38479233ee9853ddd7a8ac8a8c47/variables/variables' with Embeddings_en/sharded_8\n",
            "INFO:tensorflow:Initialize variable dnn/input_from_feature_columns/input_layer/descriptions_hub_module_embedding/module/Embeddings_en/sharded_9:0 from checkpoint b'/tmp/tfhub_modules/1fb57c3ffe1a38479233ee9853ddd7a8ac8a8c47/variables/variables' with Embeddings_en/sharded_9\n",
            "INFO:tensorflow:Initialize variable dnn/input_from_feature_columns/input_layer/descriptions_hub_module_embedding/module/Encoder_en/DNN/ResidualHidden_0/weights:0 from checkpoint b'/tmp/tfhub_modules/1fb57c3ffe1a38479233ee9853ddd7a8ac8a8c47/variables/variables' with Encoder_en/DNN/ResidualHidden_0/weights\n",
            "INFO:tensorflow:Initialize variable dnn/input_from_feature_columns/input_layer/descriptions_hub_module_embedding/module/Encoder_en/DNN/ResidualHidden_1/weights:0 from checkpoint b'/tmp/tfhub_modules/1fb57c3ffe1a38479233ee9853ddd7a8ac8a8c47/variables/variables' with Encoder_en/DNN/ResidualHidden_1/weights\n",
            "INFO:tensorflow:Initialize variable dnn/input_from_feature_columns/input_layer/descriptions_hub_module_embedding/module/Encoder_en/DNN/ResidualHidden_2/weights:0 from checkpoint b'/tmp/tfhub_modules/1fb57c3ffe1a38479233ee9853ddd7a8ac8a8c47/variables/variables' with Encoder_en/DNN/ResidualHidden_2/weights\n",
            "INFO:tensorflow:Initialize variable dnn/input_from_feature_columns/input_layer/descriptions_hub_module_embedding/module/Encoder_en/DNN/ResidualHidden_3/projection:0 from checkpoint b'/tmp/tfhub_modules/1fb57c3ffe1a38479233ee9853ddd7a8ac8a8c47/variables/variables' with Encoder_en/DNN/ResidualHidden_3/projection\n",
            "INFO:tensorflow:Initialize variable dnn/input_from_feature_columns/input_layer/descriptions_hub_module_embedding/module/Encoder_en/DNN/ResidualHidden_3/weights:0 from checkpoint b'/tmp/tfhub_modules/1fb57c3ffe1a38479233ee9853ddd7a8ac8a8c47/variables/variables' with Encoder_en/DNN/ResidualHidden_3/weights\n",
            "INFO:tensorflow:Initialize variable dnn/input_from_feature_columns/input_layer/descriptions_hub_module_embedding/module/SHARED_RANK_ANSWER/response_encoder_0/tanh_layer_0/bias:0 from checkpoint b'/tmp/tfhub_modules/1fb57c3ffe1a38479233ee9853ddd7a8ac8a8c47/variables/variables' with SHARED_RANK_ANSWER/response_encoder_0/tanh_layer_0/bias\n",
            "INFO:tensorflow:Initialize variable dnn/input_from_feature_columns/input_layer/descriptions_hub_module_embedding/module/SHARED_RANK_ANSWER/response_encoder_0/tanh_layer_0/weights:0 from checkpoint b'/tmp/tfhub_modules/1fb57c3ffe1a38479233ee9853ddd7a8ac8a8c47/variables/variables' with SHARED_RANK_ANSWER/response_encoder_0/tanh_layer_0/weights\n",
            "INFO:tensorflow:Initialize variable dnn/input_from_feature_columns/input_layer/descriptions_hub_module_embedding/module/SHARED_RANK_ANSWER/response_encoder_0/tanh_layer_1/bias:0 from checkpoint b'/tmp/tfhub_modules/1fb57c3ffe1a38479233ee9853ddd7a8ac8a8c47/variables/variables' with SHARED_RANK_ANSWER/response_encoder_0/tanh_layer_1/bias\n",
            "INFO:tensorflow:Initialize variable dnn/input_from_feature_columns/input_layer/descriptions_hub_module_embedding/module/SHARED_RANK_ANSWER/response_encoder_0/tanh_layer_1/weights:0 from checkpoint b'/tmp/tfhub_modules/1fb57c3ffe1a38479233ee9853ddd7a8ac8a8c47/variables/variables' with SHARED_RANK_ANSWER/response_encoder_0/tanh_layer_1/weights\n",
            "INFO:tensorflow:Initialize variable dnn/input_from_feature_columns/input_layer/descriptions_hub_module_embedding/module/SHARED_RANK_ANSWER/response_encoder_0/tanh_layer_2/bias:0 from checkpoint b'/tmp/tfhub_modules/1fb57c3ffe1a38479233ee9853ddd7a8ac8a8c47/variables/variables' with SHARED_RANK_ANSWER/response_encoder_0/tanh_layer_2/bias\n",
            "INFO:tensorflow:Initialize variable dnn/input_from_feature_columns/input_layer/descriptions_hub_module_embedding/module/SHARED_RANK_ANSWER/response_encoder_0/tanh_layer_2/weights:0 from checkpoint b'/tmp/tfhub_modules/1fb57c3ffe1a38479233ee9853ddd7a8ac8a8c47/variables/variables' with SHARED_RANK_ANSWER/response_encoder_0/tanh_layer_2/weights\n",
            "INFO:tensorflow:Initialize variable dnn/input_from_feature_columns/input_layer/descriptions_hub_module_embedding/module/SNLI/Classifier/LinearLayer/bias:0 from checkpoint b'/tmp/tfhub_modules/1fb57c3ffe1a38479233ee9853ddd7a8ac8a8c47/variables/variables' with SNLI/Classifier/LinearLayer/bias\n",
            "INFO:tensorflow:Initialize variable dnn/input_from_feature_columns/input_layer/descriptions_hub_module_embedding/module/SNLI/Classifier/LinearLayer/weights:0 from checkpoint b'/tmp/tfhub_modules/1fb57c3ffe1a38479233ee9853ddd7a8ac8a8c47/variables/variables' with SNLI/Classifier/LinearLayer/weights\n",
            "INFO:tensorflow:Initialize variable dnn/input_from_feature_columns/input_layer/descriptions_hub_module_embedding/module/SNLI/Classifier/tanh_layer_0/bias:0 from checkpoint b'/tmp/tfhub_modules/1fb57c3ffe1a38479233ee9853ddd7a8ac8a8c47/variables/variables' with SNLI/Classifier/tanh_layer_0/bias\n",
            "INFO:tensorflow:Initialize variable dnn/input_from_feature_columns/input_layer/descriptions_hub_module_embedding/module/SNLI/Classifier/tanh_layer_0/weights:0 from checkpoint b'/tmp/tfhub_modules/1fb57c3ffe1a38479233ee9853ddd7a8ac8a8c47/variables/variables' with SNLI/Classifier/tanh_layer_0/weights\n",
            "INFO:tensorflow:Initialize variable dnn/input_from_feature_columns/input_layer/descriptions_hub_module_embedding/module/global_step:0 from checkpoint b'/tmp/tfhub_modules/1fb57c3ffe1a38479233ee9853ddd7a8ac8a8c47/variables/variables' with global_step\n",
            "INFO:tensorflow:Done calling model_fn.\n",
            "INFO:tensorflow:Graph was finalized.\n",
            "INFO:tensorflow:Restoring parameters from /tmp/tmpobmrokt3/model.ckpt-9371\n",
            "INFO:tensorflow:Running local_init_op.\n",
            "INFO:tensorflow:Done running local_init_op.\n",
            "Documentary: 97.68%\n",
            "Comedy: 15.03%\n",
            "\n",
            "Horror: 84.82%\n",
            "Science Fiction: 50.4%\n",
            "\n",
            "Comedy: 69.07%\n",
            "Horror: 17.87%\n",
            "\n"
          ],
          "name": "stdout"
        }
      ]
    },
    {
      "metadata": {
        "id": "CfZTfK-e7MJr",
        "colab_type": "code",
        "colab": {
          "autoexec": {
            "startup": false,
            "wait_interval": 0
          }
        }
      },
      "cell_type": "code",
      "source": [
        ""
      ],
      "execution_count": 0,
      "outputs": []
    }
  ]
}